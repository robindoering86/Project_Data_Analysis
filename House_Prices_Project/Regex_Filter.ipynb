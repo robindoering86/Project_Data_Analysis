{
 "cells": [
  {
   "cell_type": "code",
   "execution_count": 3,
   "metadata": {},
   "outputs": [],
   "source": [
    "import re as re\n",
    "import pandas as pd"
   ]
  },
  {
   "cell_type": "code",
   "execution_count": 1,
   "metadata": {},
   "outputs": [],
   "source": [
    "def filter_and_return(data=None, col='', dtype='float', replace=False):\n",
    "    data2 = data.copy()\n",
    "    for idx, el in enumerate(data2[col]):\n",
    "        if dtype == 'float':\n",
    "            regex = '[-+]?([0-9]*\\.[0-9]+|[0-9]+)'\n",
    "            x = re.findall(regex, el)\n",
    "            if len(x) > 0:\n",
    "                data2.drop(idx, inplace=True)\n",
    "    return data2"
   ]
  }
 ],
 "metadata": {
  "kernelspec": {
   "display_name": "Python [conda env:nf] *",
   "language": "python",
   "name": "conda-env-nf-py"
  },
  "language_info": {
   "codemirror_mode": {
    "name": "ipython",
    "version": 3
   },
   "file_extension": ".py",
   "mimetype": "text/x-python",
   "name": "python",
   "nbconvert_exporter": "python",
   "pygments_lexer": "ipython3",
   "version": "3.6.6"
  }
 },
 "nbformat": 4,
 "nbformat_minor": 2
}
